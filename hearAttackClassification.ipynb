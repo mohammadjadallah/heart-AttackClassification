{
 "cells": [
  {
   "cell_type": "markdown",
   "id": "324c70fd-a502-4547-9dc9-67a00114da22",
   "metadata": {},
   "source": [
    "# Heart Attack Analysis & Prediction Dataset\n",
    "\n",
    "<img src=\"hearattack.png\">\n",
    "\n",
    "📍 A dataset for heart attack classification\n",
    "\n",
    "\n",
    "### ℹ About the Heart Attack dataset\n",
    "- Age : Age of the patient\n",
    "\n",
    "- Sex : Sex of the patient\n",
    "\n",
    "- exang: exercise induced angina (1 = yes; 0 = no)\n",
    "\n",
    "- ca: number of major vessels (0-3)\n",
    "\n",
    "- cp : Chest Pain type chest pain type:\n",
    "\n",
    "    💉 Value 1: typical angina\n",
    "\n",
    "    💉 Value 2: atypical angina\n",
    "\n",
    "    💉 Value 3: non-anginal pain\n",
    "\n",
    "    💉 Value 4: asymptomatic\n",
    "\n",
    "    💉 trtbps : resting blood pressure (in mm Hg)\n",
    "\n",
    "- chol : cholestoral in mg/dl fetched via BMI sensor\n",
    "\n",
    "- fbs : (fasting blood sugar > 120 mg/dl) (1 = true; 0 = false)\n",
    "\n",
    "- rest_ecg : resting electrocardiographic results:\n",
    "\n",
    "    💉 Value 0: normal\n",
    "\n",
    "    💉 Value 1: having ST-T wave abnormality (T wave inversions and/or ST elevation or depression of > 0.05 mV)\n",
    "\n",
    "    💉 Value 2: showing probable or definite left ventricular hypertrophy by Estes' criteria\n",
    "\n",
    "- thalach : maximum heart rate achieved\n",
    "\n",
    "- target : 0= less chance of heart attack 1= more chance of heart attack\n",
    "\n",
    "### Ⓜ Models:\n",
    "- DecisionTreeClassifier\n",
    "- GradientBoostingClassifier\n",
    "- RandomForestClassifier\n",
    "- SVC\n",
    "\n",
    "### Metrics:\n",
    "\n",
    "📏 Accuracy Score: accuracy_score()\n",
    "\n",
    "📏 Receiver operating characteristic (ROC): roc_curve()\n",
    "\n",
    "### Charts:\n",
    "\n",
    "📈 Box Plot\n",
    "\n",
    "📈 line chart for plotting roc curve\n",
    "\n",
    "### Workflow:\n",
    "🖍 Using KNIME\n",
    "\n",
    "🖍 About KNIME: Free and open source with all your data analysis tools. Create data science solutions with the visual workflow builder.\n",
    "\n",
    "<img src=\"workflow.png\">\n",
    "\n",
    "#### The Scores for the models using knime:\n",
    "\n",
    "\n",
    "<table>\n",
    "  <thead>\n",
    "    <tr>\n",
    "      <th>Classifier Name</th>\n",
    "      <th>Accuracy</th>\n",
    "    </tr>\n",
    "  </thead>\n",
    "  <tbody>\n",
    "    <tr>\n",
    "      <td>Gradient Boosted Trees Learner</td>\n",
    "      <td>73.8%</td>\n",
    "    </tr>\n",
    "    <tr>\n",
    "      <td>SVM Learner</td>\n",
    "      <td>78.7%</td>\n",
    "    </tr>\n",
    "    <tr>\n",
    "      <td>Random Forest Learner</td>\n",
    "      <td>77.0%</td>\n",
    "    </tr>\n",
    "    <tr>\n",
    "      <td>Tree Ensamble Learner</td>\n",
    "      <td>73.8%</td>\n",
    "    </tr>\n",
    "  </tbody>\n",
    "</table>\n",
    "\n",
    "##### The best classifier which must be used in knime to make prediction is SVM Learner Classifier."
   ]
  },
  {
   "cell_type": "markdown",
   "id": "47e14496-4be5-4ada-98d0-2284bd61f27b",
   "metadata": {},
   "source": [
    "# Let Us Get Started"
   ]
  },
  {
   "cell_type": "code",
   "execution_count": 1,
   "id": "74ecd0c8-beb4-4799-a608-f07791a1348a",
   "metadata": {},
   "outputs": [],
   "source": [
    "# Importing pandas for manipulating the data\n",
    "import pandas as pd"
   ]
  },
  {
   "cell_type": "code",
   "execution_count": 2,
   "id": "6c6ca4cd-2656-498e-8052-db3dc766ff17",
   "metadata": {},
   "outputs": [],
   "source": [
    "# Reading the CSV file\n",
    "df = pd.read_csv(\"heart.csv\")"
   ]
  },
  {
   "cell_type": "code",
   "execution_count": 3,
   "id": "2a2d6ac7-af06-4ed5-b509-d1df0fd7636c",
   "metadata": {},
   "outputs": [
    {
     "data": {
      "text/html": [
       "<div>\n",
       "<style scoped>\n",
       "    .dataframe tbody tr th:only-of-type {\n",
       "        vertical-align: middle;\n",
       "    }\n",
       "\n",
       "    .dataframe tbody tr th {\n",
       "        vertical-align: top;\n",
       "    }\n",
       "\n",
       "    .dataframe thead th {\n",
       "        text-align: right;\n",
       "    }\n",
       "</style>\n",
       "<table border=\"1\" class=\"dataframe\">\n",
       "  <thead>\n",
       "    <tr style=\"text-align: right;\">\n",
       "      <th></th>\n",
       "      <th>age</th>\n",
       "      <th>sex</th>\n",
       "      <th>cp</th>\n",
       "      <th>trtbps</th>\n",
       "      <th>chol</th>\n",
       "      <th>fbs</th>\n",
       "      <th>restecg</th>\n",
       "      <th>thalachh</th>\n",
       "      <th>exng</th>\n",
       "      <th>oldpeak</th>\n",
       "      <th>slp</th>\n",
       "      <th>caa</th>\n",
       "      <th>thall</th>\n",
       "      <th>output</th>\n",
       "    </tr>\n",
       "  </thead>\n",
       "  <tbody>\n",
       "    <tr>\n",
       "      <th>0</th>\n",
       "      <td>63</td>\n",
       "      <td>1</td>\n",
       "      <td>3</td>\n",
       "      <td>145</td>\n",
       "      <td>233</td>\n",
       "      <td>1</td>\n",
       "      <td>0</td>\n",
       "      <td>150</td>\n",
       "      <td>0</td>\n",
       "      <td>2.3</td>\n",
       "      <td>0</td>\n",
       "      <td>0</td>\n",
       "      <td>1</td>\n",
       "      <td>1</td>\n",
       "    </tr>\n",
       "    <tr>\n",
       "      <th>1</th>\n",
       "      <td>37</td>\n",
       "      <td>1</td>\n",
       "      <td>2</td>\n",
       "      <td>130</td>\n",
       "      <td>250</td>\n",
       "      <td>0</td>\n",
       "      <td>1</td>\n",
       "      <td>187</td>\n",
       "      <td>0</td>\n",
       "      <td>3.5</td>\n",
       "      <td>0</td>\n",
       "      <td>0</td>\n",
       "      <td>2</td>\n",
       "      <td>1</td>\n",
       "    </tr>\n",
       "    <tr>\n",
       "      <th>2</th>\n",
       "      <td>41</td>\n",
       "      <td>0</td>\n",
       "      <td>1</td>\n",
       "      <td>130</td>\n",
       "      <td>204</td>\n",
       "      <td>0</td>\n",
       "      <td>0</td>\n",
       "      <td>172</td>\n",
       "      <td>0</td>\n",
       "      <td>1.4</td>\n",
       "      <td>2</td>\n",
       "      <td>0</td>\n",
       "      <td>2</td>\n",
       "      <td>1</td>\n",
       "    </tr>\n",
       "    <tr>\n",
       "      <th>3</th>\n",
       "      <td>56</td>\n",
       "      <td>1</td>\n",
       "      <td>1</td>\n",
       "      <td>120</td>\n",
       "      <td>236</td>\n",
       "      <td>0</td>\n",
       "      <td>1</td>\n",
       "      <td>178</td>\n",
       "      <td>0</td>\n",
       "      <td>0.8</td>\n",
       "      <td>2</td>\n",
       "      <td>0</td>\n",
       "      <td>2</td>\n",
       "      <td>1</td>\n",
       "    </tr>\n",
       "    <tr>\n",
       "      <th>4</th>\n",
       "      <td>57</td>\n",
       "      <td>0</td>\n",
       "      <td>0</td>\n",
       "      <td>120</td>\n",
       "      <td>354</td>\n",
       "      <td>0</td>\n",
       "      <td>1</td>\n",
       "      <td>163</td>\n",
       "      <td>1</td>\n",
       "      <td>0.6</td>\n",
       "      <td>2</td>\n",
       "      <td>0</td>\n",
       "      <td>2</td>\n",
       "      <td>1</td>\n",
       "    </tr>\n",
       "  </tbody>\n",
       "</table>\n",
       "</div>"
      ],
      "text/plain": [
       "   age  sex  cp  trtbps  chol  fbs  restecg  thalachh  exng  oldpeak  slp  \\\n",
       "0   63    1   3     145   233    1        0       150     0      2.3    0   \n",
       "1   37    1   2     130   250    0        1       187     0      3.5    0   \n",
       "2   41    0   1     130   204    0        0       172     0      1.4    2   \n",
       "3   56    1   1     120   236    0        1       178     0      0.8    2   \n",
       "4   57    0   0     120   354    0        1       163     1      0.6    2   \n",
       "\n",
       "   caa  thall  output  \n",
       "0    0      1       1  \n",
       "1    0      2       1  \n",
       "2    0      2       1  \n",
       "3    0      2       1  \n",
       "4    0      2       1  "
      ]
     },
     "execution_count": 3,
     "metadata": {},
     "output_type": "execute_result"
    }
   ],
   "source": [
    "# Showing first 5 rows\n",
    "df.head()"
   ]
  },
  {
   "cell_type": "code",
   "execution_count": 4,
   "id": "84e2b5dc-9b3b-4e2d-a50a-3b777433202c",
   "metadata": {},
   "outputs": [
    {
     "data": {
      "text/plain": [
       "'The Shape of the data: (303, 14)'"
      ]
     },
     "execution_count": 4,
     "metadata": {},
     "output_type": "execute_result"
    }
   ],
   "source": [
    "f\"The Shape of the data: {df.shape}\""
   ]
  },
  {
   "cell_type": "code",
   "execution_count": 5,
   "id": "6b2ab805-9eea-499b-9153-79456f630100",
   "metadata": {},
   "outputs": [
    {
     "data": {
      "text/html": [
       "<div>\n",
       "<style scoped>\n",
       "    .dataframe tbody tr th:only-of-type {\n",
       "        vertical-align: middle;\n",
       "    }\n",
       "\n",
       "    .dataframe tbody tr th {\n",
       "        vertical-align: top;\n",
       "    }\n",
       "\n",
       "    .dataframe thead th {\n",
       "        text-align: right;\n",
       "    }\n",
       "</style>\n",
       "<table border=\"1\" class=\"dataframe\">\n",
       "  <thead>\n",
       "    <tr style=\"text-align: right;\">\n",
       "      <th></th>\n",
       "      <th>age</th>\n",
       "      <th>sex</th>\n",
       "      <th>cp</th>\n",
       "      <th>trtbps</th>\n",
       "      <th>chol</th>\n",
       "      <th>fbs</th>\n",
       "      <th>restecg</th>\n",
       "      <th>thalachh</th>\n",
       "      <th>exng</th>\n",
       "      <th>oldpeak</th>\n",
       "      <th>slp</th>\n",
       "      <th>caa</th>\n",
       "      <th>thall</th>\n",
       "      <th>output</th>\n",
       "    </tr>\n",
       "  </thead>\n",
       "  <tbody>\n",
       "    <tr>\n",
       "      <th>count</th>\n",
       "      <td>303.000000</td>\n",
       "      <td>303.000000</td>\n",
       "      <td>303.000000</td>\n",
       "      <td>303.000000</td>\n",
       "      <td>303.000000</td>\n",
       "      <td>303.000000</td>\n",
       "      <td>303.000000</td>\n",
       "      <td>303.000000</td>\n",
       "      <td>303.000000</td>\n",
       "      <td>303.000000</td>\n",
       "      <td>303.000000</td>\n",
       "      <td>303.000000</td>\n",
       "      <td>303.000000</td>\n",
       "      <td>303.000000</td>\n",
       "    </tr>\n",
       "    <tr>\n",
       "      <th>mean</th>\n",
       "      <td>54.366337</td>\n",
       "      <td>0.683168</td>\n",
       "      <td>0.966997</td>\n",
       "      <td>131.623762</td>\n",
       "      <td>246.264026</td>\n",
       "      <td>0.148515</td>\n",
       "      <td>0.528053</td>\n",
       "      <td>149.646865</td>\n",
       "      <td>0.326733</td>\n",
       "      <td>1.039604</td>\n",
       "      <td>1.399340</td>\n",
       "      <td>0.729373</td>\n",
       "      <td>2.313531</td>\n",
       "      <td>0.544554</td>\n",
       "    </tr>\n",
       "    <tr>\n",
       "      <th>std</th>\n",
       "      <td>9.082101</td>\n",
       "      <td>0.466011</td>\n",
       "      <td>1.032052</td>\n",
       "      <td>17.538143</td>\n",
       "      <td>51.830751</td>\n",
       "      <td>0.356198</td>\n",
       "      <td>0.525860</td>\n",
       "      <td>22.905161</td>\n",
       "      <td>0.469794</td>\n",
       "      <td>1.161075</td>\n",
       "      <td>0.616226</td>\n",
       "      <td>1.022606</td>\n",
       "      <td>0.612277</td>\n",
       "      <td>0.498835</td>\n",
       "    </tr>\n",
       "    <tr>\n",
       "      <th>min</th>\n",
       "      <td>29.000000</td>\n",
       "      <td>0.000000</td>\n",
       "      <td>0.000000</td>\n",
       "      <td>94.000000</td>\n",
       "      <td>126.000000</td>\n",
       "      <td>0.000000</td>\n",
       "      <td>0.000000</td>\n",
       "      <td>71.000000</td>\n",
       "      <td>0.000000</td>\n",
       "      <td>0.000000</td>\n",
       "      <td>0.000000</td>\n",
       "      <td>0.000000</td>\n",
       "      <td>0.000000</td>\n",
       "      <td>0.000000</td>\n",
       "    </tr>\n",
       "    <tr>\n",
       "      <th>25%</th>\n",
       "      <td>47.500000</td>\n",
       "      <td>0.000000</td>\n",
       "      <td>0.000000</td>\n",
       "      <td>120.000000</td>\n",
       "      <td>211.000000</td>\n",
       "      <td>0.000000</td>\n",
       "      <td>0.000000</td>\n",
       "      <td>133.500000</td>\n",
       "      <td>0.000000</td>\n",
       "      <td>0.000000</td>\n",
       "      <td>1.000000</td>\n",
       "      <td>0.000000</td>\n",
       "      <td>2.000000</td>\n",
       "      <td>0.000000</td>\n",
       "    </tr>\n",
       "    <tr>\n",
       "      <th>50%</th>\n",
       "      <td>55.000000</td>\n",
       "      <td>1.000000</td>\n",
       "      <td>1.000000</td>\n",
       "      <td>130.000000</td>\n",
       "      <td>240.000000</td>\n",
       "      <td>0.000000</td>\n",
       "      <td>1.000000</td>\n",
       "      <td>153.000000</td>\n",
       "      <td>0.000000</td>\n",
       "      <td>0.800000</td>\n",
       "      <td>1.000000</td>\n",
       "      <td>0.000000</td>\n",
       "      <td>2.000000</td>\n",
       "      <td>1.000000</td>\n",
       "    </tr>\n",
       "    <tr>\n",
       "      <th>75%</th>\n",
       "      <td>61.000000</td>\n",
       "      <td>1.000000</td>\n",
       "      <td>2.000000</td>\n",
       "      <td>140.000000</td>\n",
       "      <td>274.500000</td>\n",
       "      <td>0.000000</td>\n",
       "      <td>1.000000</td>\n",
       "      <td>166.000000</td>\n",
       "      <td>1.000000</td>\n",
       "      <td>1.600000</td>\n",
       "      <td>2.000000</td>\n",
       "      <td>1.000000</td>\n",
       "      <td>3.000000</td>\n",
       "      <td>1.000000</td>\n",
       "    </tr>\n",
       "    <tr>\n",
       "      <th>max</th>\n",
       "      <td>77.000000</td>\n",
       "      <td>1.000000</td>\n",
       "      <td>3.000000</td>\n",
       "      <td>200.000000</td>\n",
       "      <td>564.000000</td>\n",
       "      <td>1.000000</td>\n",
       "      <td>2.000000</td>\n",
       "      <td>202.000000</td>\n",
       "      <td>1.000000</td>\n",
       "      <td>6.200000</td>\n",
       "      <td>2.000000</td>\n",
       "      <td>4.000000</td>\n",
       "      <td>3.000000</td>\n",
       "      <td>1.000000</td>\n",
       "    </tr>\n",
       "  </tbody>\n",
       "</table>\n",
       "</div>"
      ],
      "text/plain": [
       "              age         sex          cp      trtbps        chol         fbs  \\\n",
       "count  303.000000  303.000000  303.000000  303.000000  303.000000  303.000000   \n",
       "mean    54.366337    0.683168    0.966997  131.623762  246.264026    0.148515   \n",
       "std      9.082101    0.466011    1.032052   17.538143   51.830751    0.356198   \n",
       "min     29.000000    0.000000    0.000000   94.000000  126.000000    0.000000   \n",
       "25%     47.500000    0.000000    0.000000  120.000000  211.000000    0.000000   \n",
       "50%     55.000000    1.000000    1.000000  130.000000  240.000000    0.000000   \n",
       "75%     61.000000    1.000000    2.000000  140.000000  274.500000    0.000000   \n",
       "max     77.000000    1.000000    3.000000  200.000000  564.000000    1.000000   \n",
       "\n",
       "          restecg    thalachh        exng     oldpeak         slp         caa  \\\n",
       "count  303.000000  303.000000  303.000000  303.000000  303.000000  303.000000   \n",
       "mean     0.528053  149.646865    0.326733    1.039604    1.399340    0.729373   \n",
       "std      0.525860   22.905161    0.469794    1.161075    0.616226    1.022606   \n",
       "min      0.000000   71.000000    0.000000    0.000000    0.000000    0.000000   \n",
       "25%      0.000000  133.500000    0.000000    0.000000    1.000000    0.000000   \n",
       "50%      1.000000  153.000000    0.000000    0.800000    1.000000    0.000000   \n",
       "75%      1.000000  166.000000    1.000000    1.600000    2.000000    1.000000   \n",
       "max      2.000000  202.000000    1.000000    6.200000    2.000000    4.000000   \n",
       "\n",
       "            thall      output  \n",
       "count  303.000000  303.000000  \n",
       "mean     2.313531    0.544554  \n",
       "std      0.612277    0.498835  \n",
       "min      0.000000    0.000000  \n",
       "25%      2.000000    0.000000  \n",
       "50%      2.000000    1.000000  \n",
       "75%      3.000000    1.000000  \n",
       "max      3.000000    1.000000  "
      ]
     },
     "execution_count": 5,
     "metadata": {},
     "output_type": "execute_result"
    }
   ],
   "source": [
    "# Summary of the data\n",
    "df.describe(include='all')"
   ]
  },
  {
   "cell_type": "code",
   "execution_count": 6,
   "id": "48ef9a21-d4f1-45a7-90fe-9bdddda9c2a5",
   "metadata": {},
   "outputs": [
    {
     "name": "stdout",
     "output_type": "stream",
     "text": [
      "There is/are 0 missing value/s\n"
     ]
    }
   ],
   "source": [
    "# No.Missing values\n",
    "noMissing = df.isnull().sum().sum()\n",
    "if noMissing:\n",
    "    print(\"There are no missing values\")\n",
    "else:\n",
    "    print(F\"There is/are {noMissing} missing value/s\")"
   ]
  },
  {
   "cell_type": "code",
   "execution_count": 7,
   "id": "cf0e04e6-73e4-4143-98b2-56bb618c732c",
   "metadata": {},
   "outputs": [
    {
     "data": {
      "text/plain": [
       "1"
      ]
     },
     "execution_count": 7,
     "metadata": {},
     "output_type": "execute_result"
    }
   ],
   "source": [
    "# Summation of the duplicated values\n",
    "df.duplicated().sum().sum()"
   ]
  },
  {
   "cell_type": "code",
   "execution_count": 8,
   "id": "14b61cf4-4abc-465d-9088-9e7c7ba20193",
   "metadata": {},
   "outputs": [],
   "source": [
    "# Dropping the duplicated values\n",
    "df.drop_duplicates(inplace=True)"
   ]
  },
  {
   "cell_type": "code",
   "execution_count": 9,
   "id": "31747487-81c8-4778-b47b-0151ae2a7d16",
   "metadata": {},
   "outputs": [
    {
     "data": {
      "text/plain": [
       "0"
      ]
     },
     "execution_count": 9,
     "metadata": {},
     "output_type": "execute_result"
    }
   ],
   "source": [
    "# Check duplicated values\n",
    "df.duplicated().sum().sum()"
   ]
  },
  {
   "cell_type": "code",
   "execution_count": 10,
   "id": "10c958a1-b74d-43e3-9653-7610ac06b621",
   "metadata": {},
   "outputs": [],
   "source": [
    "# Importing matplotlib for visualization\n",
    "import matplotlib.pyplot as plt"
   ]
  },
  {
   "cell_type": "code",
   "execution_count": 11,
   "id": "e17d037d-6503-45d9-8beb-a0199eaa352f",
   "metadata": {},
   "outputs": [
    {
     "data": {
      "image/png": "[encoded data removed]",
      "text/plain": [
       "<Figure size 1400x1000 with 1 Axes>"
      ]
     },
     "metadata": {},
     "output_type": "display_data"
    }
   ],
   "source": [
    "# Show a box plot so we know if tere are outliers or no\n",
    "df.boxplot(figsize=(14, 10))\n",
    "plt.show()"
   ]
  },
  {
   "cell_type": "markdown",
   "id": "4fe1bbb1-d27f-4b76-ac24-c89596ffe32b",
   "metadata": {},
   "source": [
    "### Clearing Outliers"
   ]
  },
  {
   "cell_type": "code",
   "execution_count": 12,
   "id": "84c0ef62-19f0-452d-9d3b-6cd706031d3e",
   "metadata": {},
   "outputs": [],
   "source": [
    "# Build a function for clearing outliers\n",
    "def  clear_outliers(data):\n",
    "    import numpy as np\n",
    "    df_cp = data.copy()\n",
    "    cols = df_cp.columns\n",
    "    for col in cols:\n",
    "        Q1 = np.nanpercentile(df_cp[col], 25)\n",
    "        Q3 = np.nanpercentile(df_cp[col], 75)\n",
    "        IQR = Q3 - Q1\n",
    "        a = Q1 - IQR * 1.5 # LOWER BOUND\n",
    "        b = Q3 + IQR * 1.5 # UPPER BOUND\n",
    "        # Replace the data with mean or any value that you want to use\n",
    "        df_cp[col] = np.where(df_cp[col] < a, a, df_cp[col])\n",
    "        df_cp[col] = np.where(df_cp[col] > b, b, df_cp[col])\n",
    "        \n",
    "    return df_cp\n"
   ]
  },
  {
   "cell_type": "code",
   "execution_count": 13,
   "id": "03b5bc46-48ca-40a0-8ae0-c912d34e10e6",
   "metadata": {},
   "outputs": [],
   "source": [
    "# Create a new dataframe after the dataset cleared from outliers\n",
    "dff = clear_outliers(df)"
   ]
  },
  {
   "cell_type": "code",
   "execution_count": 14,
   "id": "2bd69747-085f-4fca-ad09-b323657d0d44",
   "metadata": {
    "scrolled": true,
    "tags": []
   },
   "outputs": [
    {
     "data": {
      "text/html": [
       "<div>\n",
       "<style scoped>\n",
       "    .dataframe tbody tr th:only-of-type {\n",
       "        vertical-align: middle;\n",
       "    }\n",
       "\n",
       "    .dataframe tbody tr th {\n",
       "        vertical-align: top;\n",
       "    }\n",
       "\n",
       "    .dataframe thead th {\n",
       "        text-align: right;\n",
       "    }\n",
       "</style>\n",
       "<table border=\"1\" class=\"dataframe\">\n",
       "  <thead>\n",
       "    <tr style=\"text-align: right;\">\n",
       "      <th></th>\n",
       "      <th>age</th>\n",
       "      <th>sex</th>\n",
       "      <th>cp</th>\n",
       "      <th>trtbps</th>\n",
       "      <th>chol</th>\n",
       "      <th>fbs</th>\n",
       "      <th>restecg</th>\n",
       "      <th>thalachh</th>\n",
       "      <th>exng</th>\n",
       "      <th>oldpeak</th>\n",
       "      <th>slp</th>\n",
       "      <th>caa</th>\n",
       "      <th>thall</th>\n",
       "      <th>output</th>\n",
       "    </tr>\n",
       "  </thead>\n",
       "  <tbody>\n",
       "    <tr>\n",
       "      <th>0</th>\n",
       "      <td>63.0</td>\n",
       "      <td>1.0</td>\n",
       "      <td>3.0</td>\n",
       "      <td>145.0</td>\n",
       "      <td>233.0</td>\n",
       "      <td>0.0</td>\n",
       "      <td>0.0</td>\n",
       "      <td>150.0</td>\n",
       "      <td>0.0</td>\n",
       "      <td>2.3</td>\n",
       "      <td>0.0</td>\n",
       "      <td>0.0</td>\n",
       "      <td>1.0</td>\n",
       "      <td>1.0</td>\n",
       "    </tr>\n",
       "    <tr>\n",
       "      <th>1</th>\n",
       "      <td>37.0</td>\n",
       "      <td>1.0</td>\n",
       "      <td>2.0</td>\n",
       "      <td>130.0</td>\n",
       "      <td>250.0</td>\n",
       "      <td>0.0</td>\n",
       "      <td>1.0</td>\n",
       "      <td>187.0</td>\n",
       "      <td>0.0</td>\n",
       "      <td>3.5</td>\n",
       "      <td>0.0</td>\n",
       "      <td>0.0</td>\n",
       "      <td>2.0</td>\n",
       "      <td>1.0</td>\n",
       "    </tr>\n",
       "    <tr>\n",
       "      <th>2</th>\n",
       "      <td>41.0</td>\n",
       "      <td>0.0</td>\n",
       "      <td>1.0</td>\n",
       "      <td>130.0</td>\n",
       "      <td>204.0</td>\n",
       "      <td>0.0</td>\n",
       "      <td>0.0</td>\n",
       "      <td>172.0</td>\n",
       "      <td>0.0</td>\n",
       "      <td>1.4</td>\n",
       "      <td>2.0</td>\n",
       "      <td>0.0</td>\n",
       "      <td>2.0</td>\n",
       "      <td>1.0</td>\n",
       "    </tr>\n",
       "    <tr>\n",
       "      <th>3</th>\n",
       "      <td>56.0</td>\n",
       "      <td>1.0</td>\n",
       "      <td>1.0</td>\n",
       "      <td>120.0</td>\n",
       "      <td>236.0</td>\n",
       "      <td>0.0</td>\n",
       "      <td>1.0</td>\n",
       "      <td>178.0</td>\n",
       "      <td>0.0</td>\n",
       "      <td>0.8</td>\n",
       "      <td>2.0</td>\n",
       "      <td>0.0</td>\n",
       "      <td>2.0</td>\n",
       "      <td>1.0</td>\n",
       "    </tr>\n",
       "    <tr>\n",
       "      <th>4</th>\n",
       "      <td>57.0</td>\n",
       "      <td>0.0</td>\n",
       "      <td>0.0</td>\n",
       "      <td>120.0</td>\n",
       "      <td>354.0</td>\n",
       "      <td>0.0</td>\n",
       "      <td>1.0</td>\n",
       "      <td>163.0</td>\n",
       "      <td>1.0</td>\n",
       "      <td>0.6</td>\n",
       "      <td>2.0</td>\n",
       "      <td>0.0</td>\n",
       "      <td>2.0</td>\n",
       "      <td>1.0</td>\n",
       "    </tr>\n",
       "  </tbody>\n",
       "</table>\n",
       "</div>"
      ],
      "text/plain": [
       "    age  sex   cp  trtbps   chol  fbs  restecg  thalachh  exng  oldpeak  slp  \\\n",
       "0  63.0  1.0  3.0   145.0  233.0  0.0      0.0     150.0   0.0      2.3  0.0   \n",
       "1  37.0  1.0  2.0   130.0  250.0  0.0      1.0     187.0   0.0      3.5  0.0   \n",
       "2  41.0  0.0  1.0   130.0  204.0  0.0      0.0     172.0   0.0      1.4  2.0   \n",
       "3  56.0  1.0  1.0   120.0  236.0  0.0      1.0     178.0   0.0      0.8  2.0   \n",
       "4  57.0  0.0  0.0   120.0  354.0  0.0      1.0     163.0   1.0      0.6  2.0   \n",
       "\n",
       "   caa  thall  output  \n",
       "0  0.0    1.0     1.0  \n",
       "1  0.0    2.0     1.0  \n",
       "2  0.0    2.0     1.0  \n",
       "3  0.0    2.0     1.0  \n",
       "4  0.0    2.0     1.0  "
      ]
     },
     "execution_count": 14,
     "metadata": {},
     "output_type": "execute_result"
    }
   ],
   "source": [
    "# Show first 5 rows\n",
    "dff.head()"
   ]
  },
  {
   "cell_type": "code",
   "execution_count": 15,
   "id": "d25bb413-ca0d-49b5-9acc-dd465dc54d77",
   "metadata": {},
   "outputs": [
    {
     "data": {
      "image/png": "[encoded data removed]",
      "text/plain": [
       "<Figure size 1400x1000 with 1 Axes>"
      ]
     },
     "metadata": {},
     "output_type": "display_data"
    }
   ],
   "source": [
    "# Show the boxplot after got rid of outliers \n",
    "dff.boxplot(figsize=(14, 10))\n",
    "plt.show()"
   ]
  },
  {
   "cell_type": "markdown",
   "id": "f0796c87-48bc-48f1-9828-7bdc1492e3b9",
   "metadata": {},
   "source": [
    "# Training and Testing Models\n",
    "\n",
    "### Creating Four Models Then Testing Them and Showing Their Accuracy Score\n",
    "\n",
    "- Decision Tree Classifier\n",
    "- SVM Model | SVC -> Support Vector Classifier\n",
    "- Random Forest Classifier\n",
    "- Gradient Boosting Classifier\n",
    "\n",
    "<h6>All of the above classifiers are used to classify the data into groups, in this project we will use them to do the binary classification task which means that we want the model predict if something is True or False.</h6>\n",
    "\n",
    "### Steps:\n",
    "\n",
    "1. Call \"import\" the needed libraries.\n",
    "2. Call the classifiers.\n",
    "3. Prepare and Splitting the Data.\n",
    "4. Initialize the Classifiers.\n",
    "5. Fitting the Classifiers.\n",
    "6. Predicting.\n",
    "7. Compute the Accuracy for each Classifier\n",
    "8. Plotting the Roc-Curve to Show the Models Performance"
   ]
  },
  {
   "cell_type": "code",
   "execution_count": 16,
   "id": "a7b68a98-1a37-45a9-b98e-a85eecadf5c1",
   "metadata": {},
   "outputs": [],
   "source": [
    "# Dependencies\n",
    "\n",
    "# import Decision Tree Classifier\n",
    "from sklearn.tree import DecisionTreeClassifier\n",
    "# import Gradient Boosting Classifier and Random Forest Classifier\n",
    "from sklearn.ensemble import GradientBoostingClassifier, RandomForestClassifier\n",
    "# import Support Vector Classifier\n",
    "from sklearn.svm import SVC\n",
    "# train_test_split used to split the data \n",
    "from sklearn.model_selection import train_test_split\n",
    "# accuracy_score used to calculate the accuracy of the classifier\n",
    "from sklearn.metrics import accuracy_score\n",
    "# Importing the roc curve\n",
    "from sklearn.metrics import roc_curve\n",
    "# importing seaborn and matplotlib library for visualizing task\n",
    "import seaborn as sea\n",
    "import matplotlib.pyplot as plt"
   ]
  },
  {
   "cell_type": "code",
   "execution_count": 17,
   "id": "58862531-0a30-41c4-b463-c301cd461974",
   "metadata": {},
   "outputs": [],
   "source": [
    "# X -> All features without the target variable\n",
    "# y -> Only the Target Variable\n",
    "X = dff.drop(columns=[\"output\"])\n",
    "y = dff['output']"
   ]
  },
  {
   "cell_type": "code",
   "execution_count": 18,
   "id": "5a5fb470-afd4-4cbb-841e-f07ece17d85d",
   "metadata": {},
   "outputs": [],
   "source": [
    "# Sokitting the data into 80% for training and 20% for testing  \n",
    "X_train, X_test, y_train, y_test = train_test_split(X, y, test_size=0.2, random_state=3)"
   ]
  },
  {
   "cell_type": "code",
   "execution_count": 19,
   "id": "74ecf396-2ece-4283-899b-8c3deae4e9bb",
   "metadata": {},
   "outputs": [],
   "source": [
    "# Putting all classifiers inside a dictionary\n",
    "classifiers = dict(\n",
    "    tree = DecisionTreeClassifier(),\n",
    "    gradient = GradientBoostingClassifier(),\n",
    "    random = RandomForestClassifier(),\n",
    "    svc = SVC()\n",
    ")"
   ]
  },
  {
   "cell_type": "code",
   "execution_count": 20,
   "id": "3bbad48f-2a18-424f-93f8-f41a3c5f730b",
   "metadata": {},
   "outputs": [],
   "source": [
    "# Loopinng through the dictionary then fit each classifier and store its accuracy inside the acc_list\n",
    "acc_list = []\n",
    "for classifier in classifiers.values():\n",
    "    # prepare the classifier\n",
    "    clr = classifier\n",
    "    # Fit the classifier\n",
    "    clr.fit(X_train, y_train)\n",
    "    # make predictions\n",
    "    pred = clr.predict(X_test)\n",
    "    # Compute the accuracy\n",
    "    acc = accuracy_score(y_test, pred)\n",
    "    # Append the accuracy and name of classifier into the acc_list\n",
    "    acc_list.append((f\"{classifier}\".removesuffix(\"()\"), acc))"
   ]
  },
  {
   "cell_type": "code",
   "execution_count": 21,
   "id": "8a6951b8-ce60-45da-bfee-508104b9843b",
   "metadata": {},
   "outputs": [
    {
     "data": {
      "text/plain": [
       "[('DecisionTreeClassifier', 0.8032786885245902),\n",
       " ('GradientBoostingClassifier', 0.8360655737704918),\n",
       " ('RandomForestClassifier', 0.8852459016393442),\n",
       " ('SVC', 0.6721311475409836)]"
      ]
     },
     "execution_count": 21,
     "metadata": {},
     "output_type": "execute_result"
    }
   ],
   "source": [
    "# Show the acc_list\n",
    "acc_list"
   ]
  },
  {
   "cell_type": "code",
   "execution_count": 22,
   "id": "fde2e8a4-74e4-4ae1-9942-0f46ce474593",
   "metadata": {},
   "outputs": [],
   "source": [
    "# Convert the acc_list to dataframe\n",
    "df_acc = pd.DataFrame(acc_list, columns=[\"classifier\", \"accuracy\"])"
   ]
  },
  {
   "cell_type": "code",
   "execution_count": 23,
   "id": "797142b4-bc65-48f8-b94d-6bfab4389855",
   "metadata": {},
   "outputs": [
    {
     "data": {
      "text/html": [
       "<div>\n",
       "<style scoped>\n",
       "    .dataframe tbody tr th:only-of-type {\n",
       "        vertical-align: middle;\n",
       "    }\n",
       "\n",
       "    .dataframe tbody tr th {\n",
       "        vertical-align: top;\n",
       "    }\n",
       "\n",
       "    .dataframe thead th {\n",
       "        text-align: right;\n",
       "    }\n",
       "</style>\n",
       "<table border=\"1\" class=\"dataframe\">\n",
       "  <thead>\n",
       "    <tr style=\"text-align: right;\">\n",
       "      <th></th>\n",
       "      <th>classifier</th>\n",
       "      <th>accuracy</th>\n",
       "    </tr>\n",
       "  </thead>\n",
       "  <tbody>\n",
       "    <tr>\n",
       "      <th>0</th>\n",
       "      <td>DecisionTreeClassifier</td>\n",
       "      <td>0.803279</td>\n",
       "    </tr>\n",
       "    <tr>\n",
       "      <th>1</th>\n",
       "      <td>GradientBoostingClassifier</td>\n",
       "      <td>0.836066</td>\n",
       "    </tr>\n",
       "    <tr>\n",
       "      <th>2</th>\n",
       "      <td>RandomForestClassifier</td>\n",
       "      <td>0.885246</td>\n",
       "    </tr>\n",
       "    <tr>\n",
       "      <th>3</th>\n",
       "      <td>SVC</td>\n",
       "      <td>0.672131</td>\n",
       "    </tr>\n",
       "  </tbody>\n",
       "</table>\n",
       "</div>"
      ],
      "text/plain": [
       "                   classifier  accuracy\n",
       "0      DecisionTreeClassifier  0.803279\n",
       "1  GradientBoostingClassifier  0.836066\n",
       "2      RandomForestClassifier  0.885246\n",
       "3                         SVC  0.672131"
      ]
     },
     "execution_count": 23,
     "metadata": {},
     "output_type": "execute_result"
    }
   ],
   "source": [
    "df_acc"
   ]
  },
  {
   "cell_type": "code",
   "execution_count": 24,
   "id": "8eb0df29-7a21-4d22-b0a9-acb968912cba",
   "metadata": {},
   "outputs": [
    {
     "data": {
      "text/plain": [
       "dict_items([('tree', DecisionTreeClassifier()), ('gradient', GradientBoostingClassifier()), ('random', RandomForestClassifier()), ('svc', SVC())])"
      ]
     },
     "execution_count": 24,
     "metadata": {},
     "output_type": "execute_result"
    }
   ],
   "source": [
    "# Classifers items\n",
    "classifiers.items()"
   ]
  },
  {
   "cell_type": "code",
   "execution_count": 25,
   "id": "cf8e5162-8d9b-433e-8608-9bd619d6789c",
   "metadata": {},
   "outputs": [
    {
     "data": {
      "image/png": "[encoded data removed]",
      "text/plain": [
       "<Figure size 640x480 with 1 Axes>"
      ]
     },
     "metadata": {},
     "output_type": "display_data"
    }
   ],
   "source": [
    "i = 0\n",
    "for name_model, model in classifiers.items():\n",
    "    # fit the model --> train the model --> fit(feature_train \"X_train\", label_train \"y_train\")\n",
    "    model = model.fit(X_train, y_train)\n",
    "    # make prediction for features_test \"X_test\"\n",
    "    y_predictied = model.predict(X_test)\n",
    "    false_positive_rate, true_positive_rate, threshold = roc_curve(y_test, y_predictied[::1])\n",
    "\n",
    "    # now let us visualize fpr, tpr using plot line\n",
    "    colors = ('purple', 'green', 'skyblue', 'orange')\n",
    "    plt.plot(false_positive_rate, true_positive_rate, c=colors[i])\n",
    "    i += 1\n",
    "    \n",
    "plt.xlabel(\"False positive rate\")\n",
    "plt.ylabel(\"True positive rate\")\n",
    "plt.legend(['DecisionTreeClassifier', 'GradientBoostingClassifier', 'RandomForestClassifier', 'SVC'])\n",
    "plt.show()"
   ]
  },
  {
   "cell_type": "markdown",
   "id": "b5e04f11-2c22-4101-abf9-0a20d40b4dc4",
   "metadata": {},
   "source": [
    "##### The best performance is for Random Forest Classifier, so you can use it for predicting Unseen data"
   ]
  },
  {
   "cell_type": "markdown",
   "id": "a5491d5d-88d5-4c16-a080-7f12ff843537",
   "metadata": {},
   "source": [
    "<h1 style=\"text-align:center;\">End of The Project"
   ]
  }
 ],
 "metadata": {
  "kernelspec": {
   "display_name": "Python 3 (ipykernel)",
   "language": "python",
   "name": "python3"
  },
  "language_info": {
   "codemirror_mode": {
    "name": "ipython",
    "version": 3
   },
   "file_extension": ".py",
   "mimetype": "text/x-python",
   "name": "python",
   "nbconvert_exporter": "python",
   "pygments_lexer": "ipython3",
   "version": "3.10.4"
  }
 },
 "nbformat": 4,
 "nbformat_minor": 5
}
